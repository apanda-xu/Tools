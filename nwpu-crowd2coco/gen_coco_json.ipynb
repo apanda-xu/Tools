{
 "cells": [
  {
   "cell_type": "code",
   "execution_count": 1,
   "metadata": {},
   "outputs": [],
   "source": [
    "import json\n",
    "import os\n",
    "import cv2\n",
    "import numpy as np\n",
    "from tqdm import tqdm\n",
    "\n",
    "# set format\n",
    "class MyEncoder(json.JSONEncoder):\n",
    "    def default(self, obj):\n",
    "        if isinstance(obj, np.integer):\n",
    "            return int(obj)\n",
    "        elif isinstance(obj, np.floating):\n",
    "            return float(obj)\n",
    "        elif isinstance(obj, np.ndarray):\n",
    "            return obj.tolist()\n",
    "        else:\n",
    "            return super(MyEncoder, self).default(obj)\n",
    "\n",
    "# set path\n",
    "jsons_dir = './jsons'\n",
    "images_dir = './images'\n",
    "files = sorted(os.listdir(jsons_dir))\n",
    "# make train and val\n",
    "last_train_id = 3109\n",
    "last_val_id = 3609\n",
    "train_files = files[0:last_train_id]\n",
    "val_files = files[last_train_id:last_val_id]"
   ]
  },
  {
   "cell_type": "markdown",
   "metadata": {},
   "source": [
    "### train json"
   ]
  },
  {
   "cell_type": "code",
   "execution_count": 2,
   "metadata": {},
   "outputs": [
    {
     "name": "stderr",
     "output_type": "stream",
     "text": [
      "100%|██████████| 3109/3109 [06:46<00:00,  7.64it/s]\n"
     ]
    }
   ],
   "source": [
    "# coco dict for saving\n",
    "coco = {}\n",
    "coco['images'] = []\n",
    "coco['categories'] = []\n",
    "coco['annotations'] = []\n",
    "#1 \"categories\", only one category, so write it into coco dict, first\n",
    "category = {}\n",
    "category['supercategory'] = 'none'\n",
    "category['id'] = 1\n",
    "category['name'] = 'head'\n",
    "coco['categories'].append(category)\n",
    "# set image_id and annotation_id\n",
    "n_imgs = 0\n",
    "n_annotations = 0\n",
    "# making train json file\n",
    "for file in tqdm(train_files):\n",
    "    n_imgs += 1\n",
    "    with open(os.path.join(jsons_dir, file), 'r') as f:\n",
    "        # read info\n",
    "        info = json.load(f)\n",
    "        file_name = info['img_id']\n",
    "        boxes = info['boxes']\n",
    "        img = cv2.imread(os.path.join(images_dir, file_name))\n",
    "        height, width = img.shape[0:2]\n",
    "        #2 \"images\"\n",
    "        image = {}\n",
    "        image['id'] = n_imgs\n",
    "        image['height'] = height\n",
    "        image['width'] = width\n",
    "        image['file_name'] = file_name\n",
    "        coco['images'].append(image)\n",
    "        #3 \"annotations\"\n",
    "        for box in boxes:\n",
    "            annotation = {}\n",
    "            n_annotations += 1\n",
    "            annotation['id'] = n_annotations\n",
    "            annotation['image_id'] = n_imgs\n",
    "            annotation['category_id'] = 1\n",
    "            annotation['iscrowd'] = 0\n",
    "            x, y, w, h = box[0], box[1], box[2]-box[0], box[3]-box[1]\n",
    "            annotation['bbox'] = [x, y, w, h]\n",
    "            annotation['area'] = w * h\n",
    "            coco['annotations'].append(annotation)\n",
    "        f.close()\n",
    "\n",
    "# write into json file\n",
    "with open('./annotations/nwpu-crowd_train.json', 'w') as f:\n",
    "    json.dump(coco, f, indent=4, cls=MyEncoder)\n",
    "    f.close()\n",
    "        "
   ]
  },
  {
   "cell_type": "markdown",
   "metadata": {},
   "source": [
    "### val json"
   ]
  },
  {
   "cell_type": "code",
   "execution_count": 3,
   "metadata": {},
   "outputs": [
    {
     "name": "stderr",
     "output_type": "stream",
     "text": [
      "100%|██████████| 500/500 [01:01<00:00,  8.14it/s]\n"
     ]
    }
   ],
   "source": [
    "# coco dict for saving\n",
    "coco = {}\n",
    "coco['images'] = []\n",
    "coco['categories'] = []\n",
    "coco['annotations'] = []\n",
    "#1 \"categories\", only one category, so write it into coco dict, first\n",
    "category = {}\n",
    "category['supercategory'] = 'none'\n",
    "category['id'] = 1\n",
    "category['name'] = 'head'\n",
    "coco['categories'].append(category)\n",
    "# set image_id and annotation_id\n",
    "n_imgs = 0\n",
    "n_annotations = 0\n",
    "# making train json file\n",
    "for file in tqdm(val_files):\n",
    "    n_imgs += 1\n",
    "    with open(os.path.join(jsons_dir, file), 'r') as f:\n",
    "        # read info\n",
    "        info = json.load(f)\n",
    "        file_name = info['img_id']\n",
    "        boxes = info['boxes']\n",
    "        img = cv2.imread(os.path.join(images_dir, file_name))\n",
    "        height, width = img.shape[0:2]\n",
    "        #2 \"images\"\n",
    "        image = {}\n",
    "        image['id'] = n_imgs\n",
    "        image['height'] = height\n",
    "        image['width'] = width\n",
    "        image['file_name'] = file_name\n",
    "        coco['images'].append(image)\n",
    "        #3 \"annotations\"\n",
    "        for box in boxes:\n",
    "            annotation = {}\n",
    "            n_annotations += 1\n",
    "            annotation['id'] = n_annotations\n",
    "            annotation['image_id'] = n_imgs\n",
    "            annotation['category_id'] = 1\n",
    "            annotation['iscrowd'] = 0\n",
    "            x, y, w, h = box[0], box[1], box[2]-box[0], box[3]-box[1]\n",
    "            annotation['bbox'] = [x, y, w, h]\n",
    "            annotation['area'] = w * h\n",
    "            coco['annotations'].append(annotation)\n",
    "        f.close()\n",
    "\n",
    "# write into json file\n",
    "with open('./annotations/nwpu-crowd_val.json', 'w') as f:\n",
    "    json.dump(coco, f, indent=4, cls=MyEncoder)\n",
    "    f.close()"
   ]
  }
 ],
 "metadata": {
  "interpreter": {
   "hash": "7f9548511c89fa191b0ff0550f663ba01b7057690eadab416efa3cdfcfd85618"
  },
  "kernelspec": {
   "display_name": "Python 3.7.11 ('atss')",
   "language": "python",
   "name": "python3"
  },
  "language_info": {
   "codemirror_mode": {
    "name": "ipython",
    "version": 3
   },
   "file_extension": ".py",
   "mimetype": "text/x-python",
   "name": "python",
   "nbconvert_exporter": "python",
   "pygments_lexer": "ipython3",
   "version": "3.6.13"
  },
  "orig_nbformat": 4
 },
 "nbformat": 4,
 "nbformat_minor": 2
}
