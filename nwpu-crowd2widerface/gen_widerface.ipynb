{
 "cells": [
  {
   "cell_type": "code",
   "execution_count": 3,
   "metadata": {},
   "outputs": [],
   "source": [
    "import json\n",
    "import os\n",
    "from tqdm import tqdm"
   ]
  },
  {
   "cell_type": "code",
   "execution_count": 4,
   "metadata": {},
   "outputs": [
    {
     "name": "stdout",
     "output_type": "stream",
     "text": [
      "generate train_label.txt ...\n"
     ]
    },
    {
     "name": "stderr",
     "output_type": "stream",
     "text": [
      "100%|██████████| 3109/3109 [00:04<00:00, 726.71it/s]\n"
     ]
    },
    {
     "name": "stdout",
     "output_type": "stream",
     "text": [
      "generate val_label.txt ...\n"
     ]
    },
    {
     "name": "stderr",
     "output_type": "stream",
     "text": [
      "100%|██████████| 500/500 [00:00<00:00, 620.89it/s]\n"
     ]
    }
   ],
   "source": [
    "json_files = sorted(os.listdir('jsons'))\n",
    "\n",
    "n_train = 3109\n",
    "n_val = 3609\n",
    "train_files = json_files[0:n_train]\n",
    "val_files = json_files[n_train:n_val] \n",
    "\n",
    "# generate train.txt\n",
    "print('generate train_label.txt ...')\n",
    "train_infos = ''\n",
    "for file in tqdm(train_files):\n",
    "    file_path = os.path.join('jsons', file)\n",
    "    with open(file_path, 'r') as f:\n",
    "        data = json.load(f)\n",
    "    img_path = '# ' + data['img_id'] + '\\n'\n",
    "    train_infos += img_path\n",
    "    boxes = data['boxes']\n",
    "    for box in boxes:\n",
    "        x1, y1, x2, y2 = box\n",
    "        x, y, w, h = int(x1), int(y1), int(x2-x1), int(y2-y1)\n",
    "        xywh = '{} {} {} {}\\n'.format(x, y, w, h)\n",
    "        train_infos += xywh\n",
    "# check path\n",
    "if not os.path.exists('annotations'):\n",
    "    os.makedirs('annotations')\n",
    "# write txt\n",
    "with open('annotations/train_label.txt', 'w') as f:\n",
    "    f.write(train_infos)\n",
    "\n",
    "\n",
    "# generate val.txt\n",
    "print('generate val_label.txt ...')\n",
    "val_infos = ''\n",
    "for file in tqdm(val_files):\n",
    "    file_path = os.path.join('jsons', file)\n",
    "    with open(file_path, 'r') as f:\n",
    "        data = json.load(f)\n",
    "    img_path = '# ' + data['img_id'] + '\\n'\n",
    "    val_infos += img_path\n",
    "    boxes = data['boxes']\n",
    "    for box in boxes:\n",
    "        x1, y1, x2, y2 = box\n",
    "        x, y, w, h = int(x1), int(y1), int(x2-x1), int(y2-y1)\n",
    "        xywh = '{} {} {} {}\\n'.format(x, y, w, h)\n",
    "        val_infos += xywh\n",
    "# check path\n",
    "if not os.path.exists('annotations'):\n",
    "    os.makedirs('annotations')\n",
    "# write txt\n",
    "with open('annotations/val_label.txt', 'w') as f:\n",
    "    f.write(val_infos)\n",
    "\n",
    "\n",
    "    \n",
    "    "
   ]
  }
 ],
 "metadata": {
  "interpreter": {
   "hash": "25a297d2f782b745f54deb5ec02e77eeb794fd9230c45267e4d83a88f592c5ae"
  },
  "kernelspec": {
   "display_name": "Python 3.8.12 ('retinaface')",
   "language": "python",
   "name": "python3"
  },
  "language_info": {
   "codemirror_mode": {
    "name": "ipython",
    "version": 3
   },
   "file_extension": ".py",
   "mimetype": "text/x-python",
   "name": "python",
   "nbconvert_exporter": "python",
   "pygments_lexer": "ipython3",
   "version": "3.8.12"
  },
  "orig_nbformat": 4
 },
 "nbformat": 4,
 "nbformat_minor": 2
}
