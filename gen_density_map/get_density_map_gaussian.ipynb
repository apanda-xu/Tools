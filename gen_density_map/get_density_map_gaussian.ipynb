{
 "cells": [
  {
   "cell_type": "code",
   "execution_count": 1,
   "metadata": {},
   "outputs": [],
   "source": [
    "import os\n",
    "import cv2\n",
    "import h5py\n",
    "import numpy as np\n",
    "import scipy.spatial as spatial\n",
    "from scipy.io import loadmat"
   ]
  },
  {
   "cell_type": "code",
   "execution_count": 2,
   "metadata": {},
   "outputs": [],
   "source": [
    "# Adaptive Gaussian kernel\n",
    "def get_density_map_gaussian(im, points, adaptive_mode=False, fixed_value=15, fixed_values=None):\n",
    "    density_map = np.zeros(im.shape[:2], dtype=np.float32)\n",
    "    h, w = density_map.shape[:2]\n",
    "    num_gt = np.squeeze(points).shape[0]\n",
    "\n",
    "    if num_gt == 0:\n",
    "        return density_map\n",
    "\n",
    "    if adaptive_mode == True:\n",
    "        fixed_values = None\n",
    "        leafsize = 2048\n",
    "        tree = spatial.KDTree(points.copy(), leafsize=leafsize)\n",
    "        distances, locations = tree.query(points, k=4)\n",
    "\n",
    "    for idx, p in enumerate(points):\n",
    "        p = np.round(p).astype(int)\n",
    "        p[0], p[1] = min(h-1, p[1]), min(w-1, p[0])\n",
    "        if num_gt > 1:\n",
    "            if adaptive_mode == 1:\n",
    "                sigma = int(np.sum(distances[idx][1:4]) * 0.1)\n",
    "            elif adaptive_mode == 0:\n",
    "                sigma = fixed_value\n",
    "        else:\n",
    "            sigma = fixed_value\n",
    "        sigma = max(1, sigma)\n",
    "        gaussian_radius_no_detection = sigma * 3\n",
    "        gaussian_radius = gaussian_radius_no_detection\n",
    "\n",
    "        if fixed_values is not None:\n",
    "            grid_y, grid_x = int(p[0]//(h/3)), int(p[1]//(w/3))\n",
    "            grid_idx = grid_y * 3 + grid_x\n",
    "            gaussian_radius = fixed_values[grid_idx] if fixed_values[grid_idx] else gaussian_radius_no_detection\n",
    "        gaussian_map = np.multiply(\n",
    "            cv2.getGaussianKernel(gaussian_radius*2+1, sigma),\n",
    "            cv2.getGaussianKernel(gaussian_radius*2+1, sigma).T\n",
    "        )\n",
    "        gaussian_map[gaussian_map < 0.0003] = 0\n",
    "        if np.sum(gaussian_map):\n",
    "            gaussian_map = gaussian_map / np.sum(gaussian_map)\n",
    "        x_left, x_right, y_up, y_down = 0, gaussian_map.shape[1], 0, gaussian_map.shape[0]\n",
    "        # cut the gaussian kernel\n",
    "        if p[1] < gaussian_radius:\n",
    "            x_left = gaussian_radius - p[1]\n",
    "        if p[0] < gaussian_radius:\n",
    "            y_up = gaussian_radius - p[0]\n",
    "        if p[1] + gaussian_radius >= w:\n",
    "            x_right = gaussian_map.shape[1] - (gaussian_radius + p[1] - w) - 1\n",
    "        if p[0] + gaussian_radius >= h:\n",
    "            y_down = gaussian_map.shape[0] - (gaussian_radius + p[0] - h) - 1\n",
    "        density_map[\n",
    "            max(0, p[0]-gaussian_radius):min(density_map.shape[0], p[0]+gaussian_radius+1),\n",
    "            max(0, p[1]-gaussian_radius):min(density_map.shape[1], p[1]+gaussian_radius+1)\n",
    "        ] += gaussian_map[y_up:y_down, x_left:x_right]\n",
    "    # density_map[density_map < 0.0003] = 0\n",
    "    density_map = density_map / (np.sum(density_map / num_gt))\n",
    "    return density_map"
   ]
  },
  {
   "cell_type": "code",
   "execution_count": 3,
   "metadata": {},
   "outputs": [
    {
     "name": "stdout",
     "output_type": "stream",
     "text": [
      "start generating...\n",
      "done\n"
     ]
    }
   ],
   "source": [
    "# data root\n",
    "original_data_root = 'data/original/ShanghaiTech'\n",
    "processed_data_root = 'data/processed/ShanghaiTech'\n",
    "\n",
    "print('start generating...')\n",
    "\n",
    "for dataset in ['A', 'B']:\n",
    "    dataset_path = os.path.join(original_data_root, 'part_{}'.format(dataset))\n",
    "    is_adaptive = True if dataset is 'A' else False\n",
    "\n",
    "    for data in ['test_data', 'train_data']:\n",
    "        data_path = os.path.join(dataset_path, data)\n",
    "        img_path = os.path.join(data_path, 'images')\n",
    "        img_files = os.listdir(img_path)\n",
    "        gt_path = os.path.join(data_path, 'ground-truth')\n",
    "        gt_files = os.listdir(gt_path)\n",
    "        # check num of files: gt = images ?\n",
    "        if len(gt_files) != len(img_files):\n",
    "            print('num error! please check dataset.')\n",
    "            exit()\n",
    "\n",
    "        # make dirs\n",
    "        processed_gt_path = os.path.join(processed_data_root, dataset, data, 'ground-truth')\n",
    "        if not os.path.exists(processed_gt_path):\n",
    "            os.makedirs(processed_gt_path)\n",
    "\n",
    "        # generate density map\n",
    "        for i in range(1, len(img_files)+1):\n",
    "            img = cv2.imread(os.path.join(img_path, 'IMG_'+str(i)+'.jpg'))\n",
    "            m = loadmat(os.path.join(gt_path, 'GT_IMG_'+str(i)+'.mat'))\n",
    "            gt = m['image_info'][0][0][0][0][0] - 1\n",
    "            k = np.zeros(img.shape[0:2])\n",
    "            for j in range(len(gt)):\n",
    "                if int(gt[j][1]) < img.shape[0] and int(gt[j][0]) < img.shape[1]:\n",
    "                    k[int(gt[j][1]), int(gt[j][0])]=1\n",
    "            density = get_density_map_gaussian(k, gt, adaptive_mode=is_adaptive)\n",
    "            \n",
    "            # write density map into .h5 file\n",
    "            with h5py.File(os.path.join(processed_gt_path, 'GT_IMG_'+str(i)+'.h5'), 'w') as f:\n",
    "                f['density'] = density\n",
    "\n",
    "print('done')"
   ]
  }
 ],
 "metadata": {
  "interpreter": {
   "hash": "65764dc42e84a1caa436eb719f599eef5ecc6d65472648f904d369123fc72d28"
  },
  "kernelspec": {
   "display_name": "Python 3.8.8 64-bit ('base': conda)",
   "language": "python",
   "name": "python3"
  },
  "language_info": {
   "codemirror_mode": {
    "name": "ipython",
    "version": 3
   },
   "file_extension": ".py",
   "mimetype": "text/x-python",
   "name": "python",
   "nbconvert_exporter": "python",
   "pygments_lexer": "ipython3",
   "version": "3.7.11"
  },
  "orig_nbformat": 4
 },
 "nbformat": 4,
 "nbformat_minor": 2
}
